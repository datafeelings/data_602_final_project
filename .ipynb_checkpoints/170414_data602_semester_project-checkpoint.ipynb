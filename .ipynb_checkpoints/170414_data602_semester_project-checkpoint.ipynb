{
 "cells": [
  {
   "cell_type": "markdown",
   "metadata": {},
   "source": [
    "## Offline part\n",
    "\n",
    "check to see if the compressed tdm is available, then jump over the calculation\n",
    "otherwise read from the URL with the zip file and build it"
   ]
  },
  {
   "cell_type": "code",
   "execution_count": 1,
   "metadata": {
    "collapsed": false
   },
   "outputs": [
    {
     "name": "stdout",
     "output_type": "stream",
     "text": [
      "Created a corpus with 2225 documents\n"
     ]
    }
   ],
   "source": [
    "import pandas as pd\n",
    "import numpy as np\n",
    "\n",
    "# Read files from zip\n",
    "arc_path = \"/Users/dima/Google Drive/CUNY_MSDA/Data_602_Python/Final_Project/data/bbc-fulltext.zip\"\n",
    "\n",
    "def read_corpus_from_zip(archive_path):\n",
    "    '''\n",
    "    WRITE DOCSTRING\n",
    "    '''\n",
    "    \n",
    "    import zipfile\n",
    "    import os\n",
    "    \n",
    "    with zipfile.ZipFile(archive_path) as z:\n",
    "\n",
    "        docs = []\n",
    "        terms = []\n",
    "        # need to read only .txt files but not those hidden ones created by the MacOS\n",
    "\n",
    "        for filename in [f for f in z.namelist() if (not f.startswith('_'))& f.endswith('.txt')]:\n",
    "            with z.open(filename) as f:\n",
    "                docs.append(filename)\n",
    "                words = [word for line in f for word in line.split()]\n",
    "                terms.append(words)\n",
    "    \n",
    "    print 'Created a corpus with {} documents'.format(len(docs))\n",
    "    return {'docs' : docs,'terms' : terms}\n",
    "\n",
    "corpus = read_corpus_from_zip(arc_path)\n",
    "\n"
   ]
  },
  {
   "cell_type": "code",
   "execution_count": 2,
   "metadata": {
    "collapsed": false
   },
   "outputs": [],
   "source": [
    "# Process terms: Remove punctuation & numbers, lowercase, remove articles and auxillary verbs\n",
    "\n",
    "\n",
    "def clean_strings(string_list, \n",
    "                  stopwords = ['is','are','was','were','would','has','have','shall',\n",
    "                               'a','an','the','in','on','at','for','of','with','by','to','as',\n",
    "                              'and','or','s','th']):\n",
    "    '''\n",
    "    WRITE DOCSTRING\n",
    "    '''\n",
    "    \n",
    "    import string\n",
    "    string_list = [word.lower() for word in string_list] # lowercase\n",
    "    string_list = [''.join(c for c in word if c in string.ascii_lowercase) for word in string_list] # keep letters only\n",
    "    string_list = [word for word in string_list if word] # drop empty records\n",
    "    string_list = [word for word in string_list if word not in stopwords] # remove stopwords\n",
    "    return string_list\n",
    "\n",
    "\n",
    "corpus['terms'] = [clean_strings(item) for item in corpus['terms']]\n"
   ]
  },
  {
   "cell_type": "code",
   "execution_count": 8,
   "metadata": {
    "collapsed": false
   },
   "outputs": [
    {
     "name": "stdout",
     "output_type": "stream",
     "text": [
      "Counting distinct words per document\n"
     ]
    },
    {
     "name": "stderr",
     "output_type": "stream",
     "text": [
      "[========================================================================] 100%\n"
     ]
    },
    {
     "name": "stdout",
     "output_type": "stream",
     "text": [
      "Merging into tdm, this may take a while\n",
      "Constructed tdm, 5997 unique words from 2226 documents\n"
     ]
    }
   ],
   "source": [
    "# Count each term per document and create a pandas dataframe with the term frequencies\n",
    "\n",
    "def count_tf(term_list,doc_name, cutoff = 1):\n",
    "    '''\n",
    "    WRITE DOCSTRING\n",
    "    Counts a simple term frequency value for each unique term in a document\n",
    "    '''\n",
    "    \n",
    "    from scipy.stats import itemfreq\n",
    "    freqs = itemfreq(term_list)\n",
    "    df = pd.DataFrame(freqs)\n",
    "    df.columns = ['term','freq']\n",
    "    #df.index = df['term']\n",
    "    #df.drop('term', axis=1, inplace=True)\n",
    "    df['freq'] = df['freq'].astype(int)\n",
    "    df = df[df['freq']>cutoff]\n",
    "    df['freq'] = df['freq']/df['freq'].sum()\n",
    "    \n",
    "    return {'doc_name':doc_name, 'freqs':df}\n",
    "\n",
    "def create_tdm(corpus,count_cutoff = 1):\n",
    "    '''\n",
    "    WRITE DOCSTRING\n",
    "    '''\n",
    "    \n",
    "    import progressbar\n",
    "    \n",
    "    tf_list = []\n",
    "    docs_list = []\n",
    "    print \"Counting distinct words per document\"\n",
    "    \n",
    "    bar = progressbar.ProgressBar(maxval=len(corpus['docs']), \n",
    "                                  widgets=[progressbar.Bar('=', '[', ']'), ' ', \n",
    "                                           progressbar.Percentage()])\n",
    "    \n",
    "    bar.start()\n",
    "    for i in range(0,len(corpus['docs'])):\n",
    "        tf_dict = count_tf(corpus['terms'][i],corpus['docs'][i],cutoff = count_cutoff)\n",
    "        tf = tf_dict['freqs']\n",
    "        #tf = tf[tf['freq']>cutoff]\n",
    "        tf_list.append(tf)\n",
    "        docs_list.append(tf_dict['doc_name'])\n",
    "        bar.update(i+1)\n",
    "    bar.finish()\n",
    "    \n",
    "    print \"Merging into tdm, this may take a while\"\n",
    "    #tdm = pd.concat(tf_list)\n",
    "    tdm = reduce(lambda left,right: pd.merge(left,right,on='term',how='outer'), tf_list)\n",
    "    tdm = tdm.fillna(0)\n",
    "    tdm.columns = ['term'] + docs_list\n",
    "    print 'Constructed tdm, {} unique words from {} documents'.format(tdm.shape[0],tdm.shape[1])\n",
    "    return tdm\n",
    "    \n",
    "tdm = create_tdm(corpus,2)"
   ]
  },
  {
   "cell_type": "code",
   "execution_count": 9,
   "metadata": {
    "collapsed": false
   },
   "outputs": [
    {
     "data": {
      "text/html": [
       "<div>\n",
       "<table border=\"1\" class=\"dataframe\">\n",
       "  <thead>\n",
       "    <tr style=\"text-align: right;\">\n",
       "      <th></th>\n",
       "      <th>term</th>\n",
       "      <th>bbc/business/001.txt</th>\n",
       "      <th>bbc/business/002.txt</th>\n",
       "      <th>bbc/business/003.txt</th>\n",
       "      <th>bbc/business/004.txt</th>\n",
       "      <th>bbc/business/005.txt</th>\n",
       "      <th>bbc/business/006.txt</th>\n",
       "      <th>bbc/business/007.txt</th>\n",
       "      <th>bbc/business/008.txt</th>\n",
       "      <th>bbc/business/009.txt</th>\n",
       "      <th>...</th>\n",
       "      <th>bbc/tech/392.txt</th>\n",
       "      <th>bbc/tech/393.txt</th>\n",
       "      <th>bbc/tech/394.txt</th>\n",
       "      <th>bbc/tech/395.txt</th>\n",
       "      <th>bbc/tech/396.txt</th>\n",
       "      <th>bbc/tech/397.txt</th>\n",
       "      <th>bbc/tech/398.txt</th>\n",
       "      <th>bbc/tech/399.txt</th>\n",
       "      <th>bbc/tech/400.txt</th>\n",
       "      <th>bbc/tech/401.txt</th>\n",
       "    </tr>\n",
       "  </thead>\n",
       "  <tbody>\n",
       "    <tr>\n",
       "      <th>0</th>\n",
       "      <td>aol</td>\n",
       "      <td>0.051020</td>\n",
       "      <td>0.0</td>\n",
       "      <td>0.000000</td>\n",
       "      <td>0.000000</td>\n",
       "      <td>0.000000</td>\n",
       "      <td>0.0</td>\n",
       "      <td>0.000000</td>\n",
       "      <td>0.0</td>\n",
       "      <td>0.0</td>\n",
       "      <td>...</td>\n",
       "      <td>0.000000</td>\n",
       "      <td>0.0</td>\n",
       "      <td>0.000000</td>\n",
       "      <td>0.000000</td>\n",
       "      <td>0.000000</td>\n",
       "      <td>0.000000</td>\n",
       "      <td>0.000000</td>\n",
       "      <td>0.000000</td>\n",
       "      <td>0.0</td>\n",
       "      <td>0.000000</td>\n",
       "    </tr>\n",
       "    <tr>\n",
       "      <th>1</th>\n",
       "      <td>bn</td>\n",
       "      <td>0.051020</td>\n",
       "      <td>0.0</td>\n",
       "      <td>0.000000</td>\n",
       "      <td>0.000000</td>\n",
       "      <td>0.125000</td>\n",
       "      <td>0.0</td>\n",
       "      <td>0.000000</td>\n",
       "      <td>0.0</td>\n",
       "      <td>0.0</td>\n",
       "      <td>...</td>\n",
       "      <td>0.000000</td>\n",
       "      <td>0.0</td>\n",
       "      <td>0.000000</td>\n",
       "      <td>0.000000</td>\n",
       "      <td>0.000000</td>\n",
       "      <td>0.000000</td>\n",
       "      <td>0.000000</td>\n",
       "      <td>0.000000</td>\n",
       "      <td>0.0</td>\n",
       "      <td>0.000000</td>\n",
       "    </tr>\n",
       "    <tr>\n",
       "      <th>2</th>\n",
       "      <td>fourth</td>\n",
       "      <td>0.030612</td>\n",
       "      <td>0.0</td>\n",
       "      <td>0.000000</td>\n",
       "      <td>0.000000</td>\n",
       "      <td>0.000000</td>\n",
       "      <td>0.0</td>\n",
       "      <td>0.000000</td>\n",
       "      <td>0.0</td>\n",
       "      <td>0.0</td>\n",
       "      <td>...</td>\n",
       "      <td>0.000000</td>\n",
       "      <td>0.0</td>\n",
       "      <td>0.000000</td>\n",
       "      <td>0.000000</td>\n",
       "      <td>0.000000</td>\n",
       "      <td>0.000000</td>\n",
       "      <td>0.000000</td>\n",
       "      <td>0.000000</td>\n",
       "      <td>0.0</td>\n",
       "      <td>0.000000</td>\n",
       "    </tr>\n",
       "    <tr>\n",
       "      <th>3</th>\n",
       "      <td>from</td>\n",
       "      <td>0.040816</td>\n",
       "      <td>0.0</td>\n",
       "      <td>0.000000</td>\n",
       "      <td>0.045977</td>\n",
       "      <td>0.000000</td>\n",
       "      <td>0.0</td>\n",
       "      <td>0.000000</td>\n",
       "      <td>0.0</td>\n",
       "      <td>0.0</td>\n",
       "      <td>...</td>\n",
       "      <td>0.050633</td>\n",
       "      <td>0.0</td>\n",
       "      <td>0.000000</td>\n",
       "      <td>0.015873</td>\n",
       "      <td>0.000000</td>\n",
       "      <td>0.037736</td>\n",
       "      <td>0.054545</td>\n",
       "      <td>0.009868</td>\n",
       "      <td>0.0</td>\n",
       "      <td>0.006574</td>\n",
       "    </tr>\n",
       "    <tr>\n",
       "      <th>4</th>\n",
       "      <td>internet</td>\n",
       "      <td>0.040816</td>\n",
       "      <td>0.0</td>\n",
       "      <td>0.000000</td>\n",
       "      <td>0.000000</td>\n",
       "      <td>0.000000</td>\n",
       "      <td>0.0</td>\n",
       "      <td>0.000000</td>\n",
       "      <td>0.0</td>\n",
       "      <td>0.0</td>\n",
       "      <td>...</td>\n",
       "      <td>0.000000</td>\n",
       "      <td>0.0</td>\n",
       "      <td>0.012500</td>\n",
       "      <td>0.000000</td>\n",
       "      <td>0.000000</td>\n",
       "      <td>0.000000</td>\n",
       "      <td>0.000000</td>\n",
       "      <td>0.000000</td>\n",
       "      <td>0.0</td>\n",
       "      <td>0.000000</td>\n",
       "    </tr>\n",
       "    <tr>\n",
       "      <th>5</th>\n",
       "      <td>it</td>\n",
       "      <td>0.112245</td>\n",
       "      <td>0.0</td>\n",
       "      <td>0.058824</td>\n",
       "      <td>0.080460</td>\n",
       "      <td>0.083333</td>\n",
       "      <td>0.0</td>\n",
       "      <td>0.065217</td>\n",
       "      <td>0.0</td>\n",
       "      <td>0.0</td>\n",
       "      <td>...</td>\n",
       "      <td>0.050633</td>\n",
       "      <td>0.0</td>\n",
       "      <td>0.079167</td>\n",
       "      <td>0.052910</td>\n",
       "      <td>0.010526</td>\n",
       "      <td>0.028302</td>\n",
       "      <td>0.000000</td>\n",
       "      <td>0.055921</td>\n",
       "      <td>0.0</td>\n",
       "      <td>0.024836</td>\n",
       "    </tr>\n",
       "    <tr>\n",
       "      <th>6</th>\n",
       "      <td>its</td>\n",
       "      <td>0.061224</td>\n",
       "      <td>0.0</td>\n",
       "      <td>0.098039</td>\n",
       "      <td>0.034483</td>\n",
       "      <td>0.000000</td>\n",
       "      <td>0.0</td>\n",
       "      <td>0.000000</td>\n",
       "      <td>0.0</td>\n",
       "      <td>0.0</td>\n",
       "      <td>...</td>\n",
       "      <td>0.000000</td>\n",
       "      <td>0.0</td>\n",
       "      <td>0.012500</td>\n",
       "      <td>0.042328</td>\n",
       "      <td>0.017544</td>\n",
       "      <td>0.000000</td>\n",
       "      <td>0.000000</td>\n",
       "      <td>0.000000</td>\n",
       "      <td>0.0</td>\n",
       "      <td>0.002922</td>\n",
       "    </tr>\n",
       "    <tr>\n",
       "      <th>7</th>\n",
       "      <td>m</td>\n",
       "      <td>0.051020</td>\n",
       "      <td>0.0</td>\n",
       "      <td>0.058824</td>\n",
       "      <td>0.080460</td>\n",
       "      <td>0.000000</td>\n",
       "      <td>0.0</td>\n",
       "      <td>0.000000</td>\n",
       "      <td>0.0</td>\n",
       "      <td>0.0</td>\n",
       "      <td>...</td>\n",
       "      <td>0.000000</td>\n",
       "      <td>0.0</td>\n",
       "      <td>0.000000</td>\n",
       "      <td>0.000000</td>\n",
       "      <td>0.000000</td>\n",
       "      <td>0.000000</td>\n",
       "      <td>0.000000</td>\n",
       "      <td>0.000000</td>\n",
       "      <td>0.0</td>\n",
       "      <td>0.000000</td>\n",
       "    </tr>\n",
       "    <tr>\n",
       "      <th>8</th>\n",
       "      <td>now</td>\n",
       "      <td>0.030612</td>\n",
       "      <td>0.0</td>\n",
       "      <td>0.000000</td>\n",
       "      <td>0.000000</td>\n",
       "      <td>0.000000</td>\n",
       "      <td>0.0</td>\n",
       "      <td>0.000000</td>\n",
       "      <td>0.0</td>\n",
       "      <td>0.0</td>\n",
       "      <td>...</td>\n",
       "      <td>0.000000</td>\n",
       "      <td>0.0</td>\n",
       "      <td>0.000000</td>\n",
       "      <td>0.000000</td>\n",
       "      <td>0.000000</td>\n",
       "      <td>0.028302</td>\n",
       "      <td>0.000000</td>\n",
       "      <td>0.000000</td>\n",
       "      <td>0.0</td>\n",
       "      <td>0.002191</td>\n",
       "    </tr>\n",
       "    <tr>\n",
       "      <th>9</th>\n",
       "      <td>our</td>\n",
       "      <td>0.030612</td>\n",
       "      <td>0.0</td>\n",
       "      <td>0.000000</td>\n",
       "      <td>0.034483</td>\n",
       "      <td>0.000000</td>\n",
       "      <td>0.0</td>\n",
       "      <td>0.000000</td>\n",
       "      <td>0.0</td>\n",
       "      <td>0.0</td>\n",
       "      <td>...</td>\n",
       "      <td>0.000000</td>\n",
       "      <td>0.0</td>\n",
       "      <td>0.000000</td>\n",
       "      <td>0.000000</td>\n",
       "      <td>0.000000</td>\n",
       "      <td>0.000000</td>\n",
       "      <td>0.000000</td>\n",
       "      <td>0.000000</td>\n",
       "      <td>0.0</td>\n",
       "      <td>0.002191</td>\n",
       "    </tr>\n",
       "  </tbody>\n",
       "</table>\n",
       "<p>10 rows × 2226 columns</p>\n",
       "</div>"
      ],
      "text/plain": [
       "       term  bbc/business/001.txt  bbc/business/002.txt  bbc/business/003.txt  \\\n",
       "0       aol              0.051020                   0.0              0.000000   \n",
       "1        bn              0.051020                   0.0              0.000000   \n",
       "2    fourth              0.030612                   0.0              0.000000   \n",
       "3      from              0.040816                   0.0              0.000000   \n",
       "4  internet              0.040816                   0.0              0.000000   \n",
       "5        it              0.112245                   0.0              0.058824   \n",
       "6       its              0.061224                   0.0              0.098039   \n",
       "7         m              0.051020                   0.0              0.058824   \n",
       "8       now              0.030612                   0.0              0.000000   \n",
       "9       our              0.030612                   0.0              0.000000   \n",
       "\n",
       "   bbc/business/004.txt  bbc/business/005.txt  bbc/business/006.txt  \\\n",
       "0              0.000000              0.000000                   0.0   \n",
       "1              0.000000              0.125000                   0.0   \n",
       "2              0.000000              0.000000                   0.0   \n",
       "3              0.045977              0.000000                   0.0   \n",
       "4              0.000000              0.000000                   0.0   \n",
       "5              0.080460              0.083333                   0.0   \n",
       "6              0.034483              0.000000                   0.0   \n",
       "7              0.080460              0.000000                   0.0   \n",
       "8              0.000000              0.000000                   0.0   \n",
       "9              0.034483              0.000000                   0.0   \n",
       "\n",
       "   bbc/business/007.txt  bbc/business/008.txt  bbc/business/009.txt  \\\n",
       "0              0.000000                   0.0                   0.0   \n",
       "1              0.000000                   0.0                   0.0   \n",
       "2              0.000000                   0.0                   0.0   \n",
       "3              0.000000                   0.0                   0.0   \n",
       "4              0.000000                   0.0                   0.0   \n",
       "5              0.065217                   0.0                   0.0   \n",
       "6              0.000000                   0.0                   0.0   \n",
       "7              0.000000                   0.0                   0.0   \n",
       "8              0.000000                   0.0                   0.0   \n",
       "9              0.000000                   0.0                   0.0   \n",
       "\n",
       "         ...         bbc/tech/392.txt  bbc/tech/393.txt  bbc/tech/394.txt  \\\n",
       "0        ...                 0.000000               0.0          0.000000   \n",
       "1        ...                 0.000000               0.0          0.000000   \n",
       "2        ...                 0.000000               0.0          0.000000   \n",
       "3        ...                 0.050633               0.0          0.000000   \n",
       "4        ...                 0.000000               0.0          0.012500   \n",
       "5        ...                 0.050633               0.0          0.079167   \n",
       "6        ...                 0.000000               0.0          0.012500   \n",
       "7        ...                 0.000000               0.0          0.000000   \n",
       "8        ...                 0.000000               0.0          0.000000   \n",
       "9        ...                 0.000000               0.0          0.000000   \n",
       "\n",
       "   bbc/tech/395.txt  bbc/tech/396.txt  bbc/tech/397.txt  bbc/tech/398.txt  \\\n",
       "0          0.000000          0.000000          0.000000          0.000000   \n",
       "1          0.000000          0.000000          0.000000          0.000000   \n",
       "2          0.000000          0.000000          0.000000          0.000000   \n",
       "3          0.015873          0.000000          0.037736          0.054545   \n",
       "4          0.000000          0.000000          0.000000          0.000000   \n",
       "5          0.052910          0.010526          0.028302          0.000000   \n",
       "6          0.042328          0.017544          0.000000          0.000000   \n",
       "7          0.000000          0.000000          0.000000          0.000000   \n",
       "8          0.000000          0.000000          0.028302          0.000000   \n",
       "9          0.000000          0.000000          0.000000          0.000000   \n",
       "\n",
       "   bbc/tech/399.txt  bbc/tech/400.txt  bbc/tech/401.txt  \n",
       "0          0.000000               0.0          0.000000  \n",
       "1          0.000000               0.0          0.000000  \n",
       "2          0.000000               0.0          0.000000  \n",
       "3          0.009868               0.0          0.006574  \n",
       "4          0.000000               0.0          0.000000  \n",
       "5          0.055921               0.0          0.024836  \n",
       "6          0.000000               0.0          0.002922  \n",
       "7          0.000000               0.0          0.000000  \n",
       "8          0.000000               0.0          0.002191  \n",
       "9          0.000000               0.0          0.002191  \n",
       "\n",
       "[10 rows x 2226 columns]"
      ]
     },
     "execution_count": 9,
     "metadata": {},
     "output_type": "execute_result"
    }
   ],
   "source": [
    "tdm.head(10)"
   ]
  },
  {
   "cell_type": "code",
   "execution_count": 7,
   "metadata": {
    "collapsed": false
   },
   "outputs": [],
   "source": [
    "# Store the TDM\n",
    "#tdm.to_csv('/Users/dima/Google Drive/CUNY_MSDA/Data_602_Python/Final_Project/tdm.gz', compression='gzip')\n"
   ]
  },
  {
   "cell_type": "code",
   "execution_count": 10,
   "metadata": {
    "collapsed": false
   },
   "outputs": [
    {
     "data": {
      "text/html": [
       "<div>\n",
       "<table border=\"1\" class=\"dataframe\">\n",
       "  <thead>\n",
       "    <tr style=\"text-align: right;\">\n",
       "      <th></th>\n",
       "      <th>term</th>\n",
       "      <th>bbc/business/001.txt</th>\n",
       "      <th>bbc/business/002.txt</th>\n",
       "      <th>bbc/business/003.txt</th>\n",
       "      <th>bbc/business/004.txt</th>\n",
       "      <th>bbc/business/005.txt</th>\n",
       "      <th>bbc/business/006.txt</th>\n",
       "      <th>bbc/business/007.txt</th>\n",
       "      <th>bbc/business/008.txt</th>\n",
       "      <th>bbc/business/009.txt</th>\n",
       "      <th>...</th>\n",
       "      <th>bbc/tech/392.txt</th>\n",
       "      <th>bbc/tech/393.txt</th>\n",
       "      <th>bbc/tech/394.txt</th>\n",
       "      <th>bbc/tech/395.txt</th>\n",
       "      <th>bbc/tech/396.txt</th>\n",
       "      <th>bbc/tech/397.txt</th>\n",
       "      <th>bbc/tech/398.txt</th>\n",
       "      <th>bbc/tech/399.txt</th>\n",
       "      <th>bbc/tech/400.txt</th>\n",
       "      <th>bbc/tech/401.txt</th>\n",
       "    </tr>\n",
       "  </thead>\n",
       "  <tbody>\n",
       "    <tr>\n",
       "      <th>0</th>\n",
       "      <td>aol</td>\n",
       "      <td>0.357876</td>\n",
       "      <td>0.0</td>\n",
       "      <td>0.0</td>\n",
       "      <td>0.00000</td>\n",
       "      <td>0.000000</td>\n",
       "      <td>0.0</td>\n",
       "      <td>0.0</td>\n",
       "      <td>0.0</td>\n",
       "      <td>0.0</td>\n",
       "      <td>...</td>\n",
       "      <td>0.000000</td>\n",
       "      <td>0.0</td>\n",
       "      <td>0.000000</td>\n",
       "      <td>0.000000</td>\n",
       "      <td>0.0</td>\n",
       "      <td>0.000000</td>\n",
       "      <td>0.000000</td>\n",
       "      <td>0.000000</td>\n",
       "      <td>0.0</td>\n",
       "      <td>0.000000</td>\n",
       "    </tr>\n",
       "    <tr>\n",
       "      <th>1</th>\n",
       "      <td>bn</td>\n",
       "      <td>0.139679</td>\n",
       "      <td>0.0</td>\n",
       "      <td>0.0</td>\n",
       "      <td>0.00000</td>\n",
       "      <td>0.342212</td>\n",
       "      <td>0.0</td>\n",
       "      <td>0.0</td>\n",
       "      <td>0.0</td>\n",
       "      <td>0.0</td>\n",
       "      <td>...</td>\n",
       "      <td>0.000000</td>\n",
       "      <td>0.0</td>\n",
       "      <td>0.000000</td>\n",
       "      <td>0.000000</td>\n",
       "      <td>0.0</td>\n",
       "      <td>0.000000</td>\n",
       "      <td>0.000000</td>\n",
       "      <td>0.000000</td>\n",
       "      <td>0.0</td>\n",
       "      <td>0.000000</td>\n",
       "    </tr>\n",
       "    <tr>\n",
       "      <th>2</th>\n",
       "      <td>fourth</td>\n",
       "      <td>0.165457</td>\n",
       "      <td>0.0</td>\n",
       "      <td>0.0</td>\n",
       "      <td>0.00000</td>\n",
       "      <td>0.000000</td>\n",
       "      <td>0.0</td>\n",
       "      <td>0.0</td>\n",
       "      <td>0.0</td>\n",
       "      <td>0.0</td>\n",
       "      <td>...</td>\n",
       "      <td>0.000000</td>\n",
       "      <td>0.0</td>\n",
       "      <td>0.000000</td>\n",
       "      <td>0.000000</td>\n",
       "      <td>0.0</td>\n",
       "      <td>0.000000</td>\n",
       "      <td>0.000000</td>\n",
       "      <td>0.000000</td>\n",
       "      <td>0.0</td>\n",
       "      <td>0.000000</td>\n",
       "    </tr>\n",
       "    <tr>\n",
       "      <th>3</th>\n",
       "      <td>from</td>\n",
       "      <td>0.062347</td>\n",
       "      <td>0.0</td>\n",
       "      <td>0.0</td>\n",
       "      <td>0.07023</td>\n",
       "      <td>0.000000</td>\n",
       "      <td>0.0</td>\n",
       "      <td>0.0</td>\n",
       "      <td>0.0</td>\n",
       "      <td>0.0</td>\n",
       "      <td>...</td>\n",
       "      <td>0.077342</td>\n",
       "      <td>0.0</td>\n",
       "      <td>0.000000</td>\n",
       "      <td>0.024246</td>\n",
       "      <td>0.0</td>\n",
       "      <td>0.057641</td>\n",
       "      <td>0.083318</td>\n",
       "      <td>0.015074</td>\n",
       "      <td>0.0</td>\n",
       "      <td>0.010042</td>\n",
       "    </tr>\n",
       "    <tr>\n",
       "      <th>4</th>\n",
       "      <td>internet</td>\n",
       "      <td>0.167208</td>\n",
       "      <td>0.0</td>\n",
       "      <td>0.0</td>\n",
       "      <td>0.00000</td>\n",
       "      <td>0.000000</td>\n",
       "      <td>0.0</td>\n",
       "      <td>0.0</td>\n",
       "      <td>0.0</td>\n",
       "      <td>0.0</td>\n",
       "      <td>...</td>\n",
       "      <td>0.000000</td>\n",
       "      <td>0.0</td>\n",
       "      <td>0.051207</td>\n",
       "      <td>0.000000</td>\n",
       "      <td>0.0</td>\n",
       "      <td>0.000000</td>\n",
       "      <td>0.000000</td>\n",
       "      <td>0.000000</td>\n",
       "      <td>0.0</td>\n",
       "      <td>0.000000</td>\n",
       "    </tr>\n",
       "  </tbody>\n",
       "</table>\n",
       "<p>5 rows × 2226 columns</p>\n",
       "</div>"
      ],
      "text/plain": [
       "       term  bbc/business/001.txt  bbc/business/002.txt  bbc/business/003.txt  \\\n",
       "0       aol              0.357876                   0.0                   0.0   \n",
       "1        bn              0.139679                   0.0                   0.0   \n",
       "2    fourth              0.165457                   0.0                   0.0   \n",
       "3      from              0.062347                   0.0                   0.0   \n",
       "4  internet              0.167208                   0.0                   0.0   \n",
       "\n",
       "   bbc/business/004.txt  bbc/business/005.txt  bbc/business/006.txt  \\\n",
       "0               0.00000              0.000000                   0.0   \n",
       "1               0.00000              0.342212                   0.0   \n",
       "2               0.00000              0.000000                   0.0   \n",
       "3               0.07023              0.000000                   0.0   \n",
       "4               0.00000              0.000000                   0.0   \n",
       "\n",
       "   bbc/business/007.txt  bbc/business/008.txt  bbc/business/009.txt  \\\n",
       "0                   0.0                   0.0                   0.0   \n",
       "1                   0.0                   0.0                   0.0   \n",
       "2                   0.0                   0.0                   0.0   \n",
       "3                   0.0                   0.0                   0.0   \n",
       "4                   0.0                   0.0                   0.0   \n",
       "\n",
       "         ...         bbc/tech/392.txt  bbc/tech/393.txt  bbc/tech/394.txt  \\\n",
       "0        ...                 0.000000               0.0          0.000000   \n",
       "1        ...                 0.000000               0.0          0.000000   \n",
       "2        ...                 0.000000               0.0          0.000000   \n",
       "3        ...                 0.077342               0.0          0.000000   \n",
       "4        ...                 0.000000               0.0          0.051207   \n",
       "\n",
       "   bbc/tech/395.txt  bbc/tech/396.txt  bbc/tech/397.txt  bbc/tech/398.txt  \\\n",
       "0          0.000000               0.0          0.000000          0.000000   \n",
       "1          0.000000               0.0          0.000000          0.000000   \n",
       "2          0.000000               0.0          0.000000          0.000000   \n",
       "3          0.024246               0.0          0.057641          0.083318   \n",
       "4          0.000000               0.0          0.000000          0.000000   \n",
       "\n",
       "   bbc/tech/399.txt  bbc/tech/400.txt  bbc/tech/401.txt  \n",
       "0          0.000000               0.0          0.000000  \n",
       "1          0.000000               0.0          0.000000  \n",
       "2          0.000000               0.0          0.000000  \n",
       "3          0.015074               0.0          0.010042  \n",
       "4          0.000000               0.0          0.000000  \n",
       "\n",
       "[5 rows x 2226 columns]"
      ]
     },
     "execution_count": 10,
     "metadata": {},
     "output_type": "execute_result"
    }
   ],
   "source": [
    "def tf_idf(tdm):\n",
    "    '''\n",
    "    WRITE DOCSTRING\n",
    "    ADD ERRORS\n",
    "    '''\n",
    "    n_docs = tdm.shape[1]-1\n",
    "    non_zero_count = n_docs - (tdm == 0).sum(axis=1)\n",
    "    idf = np.log(n_docs/non_zero_count)\n",
    "    \n",
    "    tdm.iloc[:,1:(n_docs+1)] = tdm.iloc[:,1:(n_docs+1)].mul(idf, axis=0)\n",
    "    \n",
    "    return tdm\n",
    "\n",
    "tdm = tf_idf(tdm)\n",
    "tdm.head()"
   ]
  },
  {
   "cell_type": "markdown",
   "metadata": {},
   "source": [
    "Calculate the matrix of term correlations A*A^t"
   ]
  },
  {
   "cell_type": "code",
   "execution_count": 12,
   "metadata": {
    "collapsed": false
   },
   "outputs": [
    {
     "ename": "TypeError",
     "evalue": "can't multiply sequence by non-int of type 'str'",
     "output_type": "error",
     "traceback": [
      "\u001b[0;31m---------------------------------------------------------------------------\u001b[0m",
      "\u001b[0;31mTypeError\u001b[0m                                 Traceback (most recent call last)",
      "\u001b[0;32m<ipython-input-12-9de71ee236a9>\u001b[0m in \u001b[0;36m<module>\u001b[0;34m()\u001b[0m\n\u001b[1;32m     11\u001b[0m     \u001b[0;32mreturn\u001b[0m \u001b[0mout_mat\u001b[0m\u001b[0;34m\u001b[0m\u001b[0m\n\u001b[1;32m     12\u001b[0m \u001b[0;34m\u001b[0m\u001b[0m\n\u001b[0;32m---> 13\u001b[0;31m \u001b[0mcm\u001b[0m \u001b[0;34m=\u001b[0m \u001b[0mcor_matrix\u001b[0m\u001b[0;34m(\u001b[0m\u001b[0mtdm\u001b[0m\u001b[0;34m)\u001b[0m\u001b[0;34m\u001b[0m\u001b[0m\n\u001b[0m",
      "\u001b[0;32m<ipython-input-12-9de71ee236a9>\u001b[0m in \u001b[0;36mcor_matrix\u001b[0;34m(data_frame)\u001b[0m\n\u001b[1;32m      8\u001b[0m \u001b[0;34m\u001b[0m\u001b[0m\n\u001b[1;32m      9\u001b[0m     \u001b[0minp_mat\u001b[0m \u001b[0;34m=\u001b[0m \u001b[0mdata_frame\u001b[0m\u001b[0;34m.\u001b[0m\u001b[0mas_matrix\u001b[0m\u001b[0;34m(\u001b[0m\u001b[0;34m)\u001b[0m\u001b[0;34m\u001b[0m\u001b[0m\n\u001b[0;32m---> 10\u001b[0;31m     \u001b[0mout_mat\u001b[0m \u001b[0;34m=\u001b[0m \u001b[0mnp\u001b[0m\u001b[0;34m.\u001b[0m\u001b[0mdot\u001b[0m\u001b[0;34m(\u001b[0m\u001b[0minp_mat\u001b[0m\u001b[0;34m,\u001b[0m \u001b[0minp_mat\u001b[0m\u001b[0;34m.\u001b[0m\u001b[0mtranspose\u001b[0m\u001b[0;34m(\u001b[0m\u001b[0;34m)\u001b[0m\u001b[0;34m)\u001b[0m\u001b[0;34m\u001b[0m\u001b[0m\n\u001b[0m\u001b[1;32m     11\u001b[0m     \u001b[0;32mreturn\u001b[0m \u001b[0mout_mat\u001b[0m\u001b[0;34m\u001b[0m\u001b[0m\n\u001b[1;32m     12\u001b[0m \u001b[0;34m\u001b[0m\u001b[0m\n",
      "\u001b[0;31mTypeError\u001b[0m: can't multiply sequence by non-int of type 'str'"
     ]
    }
   ],
   "source": [
    "# Calculate the matrix of correlations A * AT\n",
    "\n",
    "def cor_matrix(data_frame) :\n",
    "    '''\n",
    "    Calculates a correlation matrix by multiplying the input matrix with the transposed version\n",
    "    ADD ERRORS\n",
    "    ADD check to drop string columns\n",
    "    '''\n",
    "    tdm.drop('term',axis=1,inplace=True)\n",
    "    inp_mat = data_frame.as_matrix()\n",
    "    out_mat = np.dot(inp_mat, inp_mat.transpose())\n",
    "    return out_mat\n",
    "\n",
    "def "
   ]
  },
  {
   "cell_type": "code",
   "execution_count": 21,
   "metadata": {
    "collapsed": false
   },
   "outputs": [],
   "source": [
    "#tdm.index = tdm['term']\n",
    "tdm.drop('term',axis=1,inplace=True)\n",
    "inp_mat = tdm.as_matrix()\n",
    "\n",
    "#cm = cor_matrix(tdm)"
   ]
  },
  {
   "cell_type": "code",
   "execution_count": 23,
   "metadata": {
    "collapsed": false
   },
   "outputs": [],
   "source": [
    "out_mat = np.dot(inp_mat, inp_mat.transpose())"
   ]
  },
  {
   "cell_type": "code",
   "execution_count": 33,
   "metadata": {
    "collapsed": false
   },
   "outputs": [],
   "source": [
    "# Calculate SVD of the resulting matrix\n",
    "\n",
    "from scipy import linalg\n",
    "\n",
    "U, s, Vt = linalg.svd(out_mat, full_matrices = True)"
   ]
  },
  {
   "cell_type": "code",
   "execution_count": 34,
   "metadata": {
    "collapsed": false
   },
   "outputs": [
    {
     "data": {
      "text/plain": [
       "((5996, 5996), (5996,), (5996, 5996))"
      ]
     },
     "execution_count": 34,
     "metadata": {},
     "output_type": "execute_result"
    }
   ],
   "source": [
    "U.shape, s.shape, Vt.shape"
   ]
  },
  {
   "cell_type": "code",
   "execution_count": 35,
   "metadata": {
    "collapsed": false
   },
   "outputs": [
    {
     "data": {
      "text/plain": [
       "array([  5.94057442e+01,   5.94057442e+01,   5.94057442e+01, ...,\n",
       "         1.52821743e-16,   1.26306115e-16,   1.16014433e-16])"
      ]
     },
     "execution_count": 35,
     "metadata": {},
     "output_type": "execute_result"
    }
   ],
   "source": [
    "s"
   ]
  },
  {
   "cell_type": "code",
   "execution_count": 46,
   "metadata": {
    "collapsed": false
   },
   "outputs": [],
   "source": [
    "# Subset top k eigenvalues to get a reduced SVD form\n",
    "\n",
    "def trunc_svd(matrix,k):\n",
    "    \n",
    "    from scipy import linalg\n",
    "    # Calculate SVD\n",
    "    u, sigma, vt = linalg.svd(matrix, full_matrices = True)\n",
    "    \n",
    "    # Reduce to k largest eigenvalues\n",
    "    u_k = u[:, :k]\n",
    "    sigma_k = sigma[:k]\n",
    "    vt_k = vt[:k,:]\n",
    "    \n",
    "    return u_k,sigma_k,vt_k"
   ]
  },
  {
   "cell_type": "code",
   "execution_count": 47,
   "metadata": {
    "collapsed": false
   },
   "outputs": [],
   "source": [
    "Uk,Sk,Vtk = trunc_svd(out_mat, 100)"
   ]
  },
  {
   "cell_type": "code",
   "execution_count": 49,
   "metadata": {
    "collapsed": false
   },
   "outputs": [
    {
     "data": {
      "text/plain": [
       "(100,)"
      ]
     },
     "execution_count": 49,
     "metadata": {},
     "output_type": "execute_result"
    }
   ],
   "source": [
    "Sk.shape"
   ]
  },
  {
   "cell_type": "code",
   "execution_count": 54,
   "metadata": {
    "collapsed": false
   },
   "outputs": [],
   "source": [
    "# Calculate a matrix of terms as columns in the semantic space of k topics\n",
    "Yk = np.dot(np.diag(Sk),Uk.transpose())"
   ]
  },
  {
   "cell_type": "code",
   "execution_count": 66,
   "metadata": {
    "collapsed": false
   },
   "outputs": [
    {
     "data": {
      "text/plain": [
       "0.15257610055111454"
      ]
     },
     "execution_count": 66,
     "metadata": {},
     "output_type": "execute_result"
    }
   ],
   "source": [
    "def cosine_dist(v1,v2):\n",
    "    '''\n",
    "    Calculates the cosine distance between two vectors\n",
    "    '''\n",
    "    out = np.dot(v1,v2)/(linalg.norm(v1)*linalg.norm(v2))\n",
    "    return out\n",
    "\n",
    "cosine_dist(Yk[:,1], Yk[:,4])"
   ]
  },
  {
   "cell_type": "code",
   "execution_count": 72,
   "metadata": {
    "collapsed": false
   },
   "outputs": [
    {
     "ename": "KeyError",
     "evalue": "'term'",
     "output_type": "error",
     "traceback": [
      "\u001b[0;31m---------------------------------------------------------------------------\u001b[0m",
      "\u001b[0;31mKeyError\u001b[0m                                  Traceback (most recent call last)",
      "\u001b[0;32m<ipython-input-72-3096f7ed996f>\u001b[0m in \u001b[0;36m<module>\u001b[0;34m()\u001b[0m\n\u001b[1;32m      1\u001b[0m \u001b[0mb\u001b[0m \u001b[0;34m=\u001b[0m \u001b[0mpd\u001b[0m\u001b[0;34m.\u001b[0m\u001b[0mDataFrame\u001b[0m\u001b[0;34m(\u001b[0m\u001b[0mYk\u001b[0m\u001b[0;34m)\u001b[0m\u001b[0;34m\u001b[0m\u001b[0m\n\u001b[0;32m----> 2\u001b[0;31m \u001b[0mb\u001b[0m\u001b[0;34m.\u001b[0m\u001b[0mcolumns\u001b[0m \u001b[0;34m=\u001b[0m \u001b[0mtdm\u001b[0m\u001b[0;34m[\u001b[0m\u001b[0;34m'term'\u001b[0m\u001b[0;34m]\u001b[0m\u001b[0;34m\u001b[0m\u001b[0m\n\u001b[0m",
      "\u001b[0;32m/Users/dima/anaconda/lib/python2.7/site-packages/pandas/core/frame.pyc\u001b[0m in \u001b[0;36m__getitem__\u001b[0;34m(self, key)\u001b[0m\n\u001b[1;32m   2057\u001b[0m             \u001b[0;32mreturn\u001b[0m \u001b[0mself\u001b[0m\u001b[0;34m.\u001b[0m\u001b[0m_getitem_multilevel\u001b[0m\u001b[0;34m(\u001b[0m\u001b[0mkey\u001b[0m\u001b[0;34m)\u001b[0m\u001b[0;34m\u001b[0m\u001b[0m\n\u001b[1;32m   2058\u001b[0m         \u001b[0;32melse\u001b[0m\u001b[0;34m:\u001b[0m\u001b[0;34m\u001b[0m\u001b[0m\n\u001b[0;32m-> 2059\u001b[0;31m             \u001b[0;32mreturn\u001b[0m \u001b[0mself\u001b[0m\u001b[0;34m.\u001b[0m\u001b[0m_getitem_column\u001b[0m\u001b[0;34m(\u001b[0m\u001b[0mkey\u001b[0m\u001b[0;34m)\u001b[0m\u001b[0;34m\u001b[0m\u001b[0m\n\u001b[0m\u001b[1;32m   2060\u001b[0m \u001b[0;34m\u001b[0m\u001b[0m\n\u001b[1;32m   2061\u001b[0m     \u001b[0;32mdef\u001b[0m \u001b[0m_getitem_column\u001b[0m\u001b[0;34m(\u001b[0m\u001b[0mself\u001b[0m\u001b[0;34m,\u001b[0m \u001b[0mkey\u001b[0m\u001b[0;34m)\u001b[0m\u001b[0;34m:\u001b[0m\u001b[0;34m\u001b[0m\u001b[0m\n",
      "\u001b[0;32m/Users/dima/anaconda/lib/python2.7/site-packages/pandas/core/frame.pyc\u001b[0m in \u001b[0;36m_getitem_column\u001b[0;34m(self, key)\u001b[0m\n\u001b[1;32m   2064\u001b[0m         \u001b[0;31m# get column\u001b[0m\u001b[0;34m\u001b[0m\u001b[0;34m\u001b[0m\u001b[0m\n\u001b[1;32m   2065\u001b[0m         \u001b[0;32mif\u001b[0m \u001b[0mself\u001b[0m\u001b[0;34m.\u001b[0m\u001b[0mcolumns\u001b[0m\u001b[0;34m.\u001b[0m\u001b[0mis_unique\u001b[0m\u001b[0;34m:\u001b[0m\u001b[0;34m\u001b[0m\u001b[0m\n\u001b[0;32m-> 2066\u001b[0;31m             \u001b[0;32mreturn\u001b[0m \u001b[0mself\u001b[0m\u001b[0;34m.\u001b[0m\u001b[0m_get_item_cache\u001b[0m\u001b[0;34m(\u001b[0m\u001b[0mkey\u001b[0m\u001b[0;34m)\u001b[0m\u001b[0;34m\u001b[0m\u001b[0m\n\u001b[0m\u001b[1;32m   2067\u001b[0m \u001b[0;34m\u001b[0m\u001b[0m\n\u001b[1;32m   2068\u001b[0m         \u001b[0;31m# duplicate columns & possible reduce dimensionality\u001b[0m\u001b[0;34m\u001b[0m\u001b[0;34m\u001b[0m\u001b[0m\n",
      "\u001b[0;32m/Users/dima/anaconda/lib/python2.7/site-packages/pandas/core/generic.pyc\u001b[0m in \u001b[0;36m_get_item_cache\u001b[0;34m(self, item)\u001b[0m\n\u001b[1;32m   1384\u001b[0m         \u001b[0mres\u001b[0m \u001b[0;34m=\u001b[0m \u001b[0mcache\u001b[0m\u001b[0;34m.\u001b[0m\u001b[0mget\u001b[0m\u001b[0;34m(\u001b[0m\u001b[0mitem\u001b[0m\u001b[0;34m)\u001b[0m\u001b[0;34m\u001b[0m\u001b[0m\n\u001b[1;32m   1385\u001b[0m         \u001b[0;32mif\u001b[0m \u001b[0mres\u001b[0m \u001b[0;32mis\u001b[0m \u001b[0mNone\u001b[0m\u001b[0;34m:\u001b[0m\u001b[0;34m\u001b[0m\u001b[0m\n\u001b[0;32m-> 1386\u001b[0;31m             \u001b[0mvalues\u001b[0m \u001b[0;34m=\u001b[0m \u001b[0mself\u001b[0m\u001b[0;34m.\u001b[0m\u001b[0m_data\u001b[0m\u001b[0;34m.\u001b[0m\u001b[0mget\u001b[0m\u001b[0;34m(\u001b[0m\u001b[0mitem\u001b[0m\u001b[0;34m)\u001b[0m\u001b[0;34m\u001b[0m\u001b[0m\n\u001b[0m\u001b[1;32m   1387\u001b[0m             \u001b[0mres\u001b[0m \u001b[0;34m=\u001b[0m \u001b[0mself\u001b[0m\u001b[0;34m.\u001b[0m\u001b[0m_box_item_values\u001b[0m\u001b[0;34m(\u001b[0m\u001b[0mitem\u001b[0m\u001b[0;34m,\u001b[0m \u001b[0mvalues\u001b[0m\u001b[0;34m)\u001b[0m\u001b[0;34m\u001b[0m\u001b[0m\n\u001b[1;32m   1388\u001b[0m             \u001b[0mcache\u001b[0m\u001b[0;34m[\u001b[0m\u001b[0mitem\u001b[0m\u001b[0;34m]\u001b[0m \u001b[0;34m=\u001b[0m \u001b[0mres\u001b[0m\u001b[0;34m\u001b[0m\u001b[0m\n",
      "\u001b[0;32m/Users/dima/anaconda/lib/python2.7/site-packages/pandas/core/internals.pyc\u001b[0m in \u001b[0;36mget\u001b[0;34m(self, item, fastpath)\u001b[0m\n\u001b[1;32m   3541\u001b[0m \u001b[0;34m\u001b[0m\u001b[0m\n\u001b[1;32m   3542\u001b[0m             \u001b[0;32mif\u001b[0m \u001b[0;32mnot\u001b[0m \u001b[0misnull\u001b[0m\u001b[0;34m(\u001b[0m\u001b[0mitem\u001b[0m\u001b[0;34m)\u001b[0m\u001b[0;34m:\u001b[0m\u001b[0;34m\u001b[0m\u001b[0m\n\u001b[0;32m-> 3543\u001b[0;31m                 \u001b[0mloc\u001b[0m \u001b[0;34m=\u001b[0m \u001b[0mself\u001b[0m\u001b[0;34m.\u001b[0m\u001b[0mitems\u001b[0m\u001b[0;34m.\u001b[0m\u001b[0mget_loc\u001b[0m\u001b[0;34m(\u001b[0m\u001b[0mitem\u001b[0m\u001b[0;34m)\u001b[0m\u001b[0;34m\u001b[0m\u001b[0m\n\u001b[0m\u001b[1;32m   3544\u001b[0m             \u001b[0;32melse\u001b[0m\u001b[0;34m:\u001b[0m\u001b[0;34m\u001b[0m\u001b[0m\n\u001b[1;32m   3545\u001b[0m                 \u001b[0mindexer\u001b[0m \u001b[0;34m=\u001b[0m \u001b[0mnp\u001b[0m\u001b[0;34m.\u001b[0m\u001b[0marange\u001b[0m\u001b[0;34m(\u001b[0m\u001b[0mlen\u001b[0m\u001b[0;34m(\u001b[0m\u001b[0mself\u001b[0m\u001b[0;34m.\u001b[0m\u001b[0mitems\u001b[0m\u001b[0;34m)\u001b[0m\u001b[0;34m)\u001b[0m\u001b[0;34m[\u001b[0m\u001b[0misnull\u001b[0m\u001b[0;34m(\u001b[0m\u001b[0mself\u001b[0m\u001b[0;34m.\u001b[0m\u001b[0mitems\u001b[0m\u001b[0;34m)\u001b[0m\u001b[0;34m]\u001b[0m\u001b[0;34m\u001b[0m\u001b[0m\n",
      "\u001b[0;32m/Users/dima/anaconda/lib/python2.7/site-packages/pandas/indexes/base.pyc\u001b[0m in \u001b[0;36mget_loc\u001b[0;34m(self, key, method, tolerance)\u001b[0m\n\u001b[1;32m   2134\u001b[0m                 \u001b[0;32mreturn\u001b[0m \u001b[0mself\u001b[0m\u001b[0;34m.\u001b[0m\u001b[0m_engine\u001b[0m\u001b[0;34m.\u001b[0m\u001b[0mget_loc\u001b[0m\u001b[0;34m(\u001b[0m\u001b[0mkey\u001b[0m\u001b[0;34m)\u001b[0m\u001b[0;34m\u001b[0m\u001b[0m\n\u001b[1;32m   2135\u001b[0m             \u001b[0;32mexcept\u001b[0m \u001b[0mKeyError\u001b[0m\u001b[0;34m:\u001b[0m\u001b[0;34m\u001b[0m\u001b[0m\n\u001b[0;32m-> 2136\u001b[0;31m                 \u001b[0;32mreturn\u001b[0m \u001b[0mself\u001b[0m\u001b[0;34m.\u001b[0m\u001b[0m_engine\u001b[0m\u001b[0;34m.\u001b[0m\u001b[0mget_loc\u001b[0m\u001b[0;34m(\u001b[0m\u001b[0mself\u001b[0m\u001b[0;34m.\u001b[0m\u001b[0m_maybe_cast_indexer\u001b[0m\u001b[0;34m(\u001b[0m\u001b[0mkey\u001b[0m\u001b[0;34m)\u001b[0m\u001b[0;34m)\u001b[0m\u001b[0;34m\u001b[0m\u001b[0m\n\u001b[0m\u001b[1;32m   2137\u001b[0m \u001b[0;34m\u001b[0m\u001b[0m\n\u001b[1;32m   2138\u001b[0m         \u001b[0mindexer\u001b[0m \u001b[0;34m=\u001b[0m \u001b[0mself\u001b[0m\u001b[0;34m.\u001b[0m\u001b[0mget_indexer\u001b[0m\u001b[0;34m(\u001b[0m\u001b[0;34m[\u001b[0m\u001b[0mkey\u001b[0m\u001b[0;34m]\u001b[0m\u001b[0;34m,\u001b[0m \u001b[0mmethod\u001b[0m\u001b[0;34m=\u001b[0m\u001b[0mmethod\u001b[0m\u001b[0;34m,\u001b[0m \u001b[0mtolerance\u001b[0m\u001b[0;34m=\u001b[0m\u001b[0mtolerance\u001b[0m\u001b[0;34m)\u001b[0m\u001b[0;34m\u001b[0m\u001b[0m\n",
      "\u001b[0;32mpandas/index.pyx\u001b[0m in \u001b[0;36mpandas.index.IndexEngine.get_loc (pandas/index.c:4433)\u001b[0;34m()\u001b[0m\n",
      "\u001b[0;32mpandas/index.pyx\u001b[0m in \u001b[0;36mpandas.index.IndexEngine.get_loc (pandas/index.c:4279)\u001b[0;34m()\u001b[0m\n",
      "\u001b[0;32mpandas/src/hashtable_class_helper.pxi\u001b[0m in \u001b[0;36mpandas.hashtable.PyObjectHashTable.get_item (pandas/hashtable.c:13742)\u001b[0;34m()\u001b[0m\n",
      "\u001b[0;32mpandas/src/hashtable_class_helper.pxi\u001b[0m in \u001b[0;36mpandas.hashtable.PyObjectHashTable.get_item (pandas/hashtable.c:13696)\u001b[0;34m()\u001b[0m\n",
      "\u001b[0;31mKeyError\u001b[0m: 'term'"
     ]
    }
   ],
   "source": []
  },
  {
   "cell_type": "code",
   "execution_count": 69,
   "metadata": {
    "collapsed": false
   },
   "outputs": [
    {
     "ename": "NameError",
     "evalue": "name 'DataFrame' is not defined",
     "output_type": "error",
     "traceback": [
      "\u001b[0;31m---------------------------------------------------------------------------\u001b[0m",
      "\u001b[0;31mNameError\u001b[0m                                 Traceback (most recent call last)",
      "\u001b[0;32m<ipython-input-69-2681f322f0ec>\u001b[0m in \u001b[0;36m<module>\u001b[0;34m()\u001b[0m\n\u001b[1;32m      1\u001b[0m \u001b[0;32mimport\u001b[0m \u001b[0mplotly\u001b[0m\u001b[0;34m.\u001b[0m\u001b[0mplotly\u001b[0m \u001b[0;32mas\u001b[0m \u001b[0mpy\u001b[0m\u001b[0;34m\u001b[0m\u001b[0m\n\u001b[0;32m----> 2\u001b[0;31m \u001b[0mpy\u001b[0m\u001b[0;34m.\u001b[0m\u001b[0miplot\u001b[0m\u001b[0;34m(\u001b[0m\u001b[0mDataFrame\u001b[0m\u001b[0;34m(\u001b[0m\u001b[0mYk\u001b[0m\u001b[0;34m)\u001b[0m\u001b[0;34m,\u001b[0m \u001b[0mfilename\u001b[0m\u001b[0;34m=\u001b[0m\u001b[0;34m'jupyter/table1'\u001b[0m\u001b[0;34m)\u001b[0m\u001b[0;34m\u001b[0m\u001b[0m\n\u001b[0m",
      "\u001b[0;31mNameError\u001b[0m: name 'DataFrame' is not defined"
     ]
    }
   ],
   "source": []
  },
  {
   "cell_type": "code",
   "execution_count": null,
   "metadata": {
    "collapsed": true
   },
   "outputs": [],
   "source": [
    "b = pd.DataFrame(Yk)\n",
    "b.columns = tdm['term']\n",
    "\n"
   ]
  },
  {
   "cell_type": "code",
   "execution_count": null,
   "metadata": {
    "collapsed": true
   },
   "outputs": [],
   "source": [
    "import plotly.plotly as py\n",
    "py.iplot(, filename='jupyter/table1')"
   ]
  }
 ],
 "metadata": {
  "kernelspec": {
   "display_name": "Python 2",
   "language": "python",
   "name": "python2"
  },
  "language_info": {
   "codemirror_mode": {
    "name": "ipython",
    "version": 2
   },
   "file_extension": ".py",
   "mimetype": "text/x-python",
   "name": "python",
   "nbconvert_exporter": "python",
   "pygments_lexer": "ipython2",
   "version": "2.7.13"
  }
 },
 "nbformat": 4,
 "nbformat_minor": 2
}
